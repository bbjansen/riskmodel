{
 "cells": [
  {
   "cell_type": "code",
   "execution_count": null,
   "metadata": {},
   "outputs": [],
   "source": [
    "import pymongo\n",
    "from pymongo import MongoClient\n",
    "import pandas as pd\n",
    "import glob\n",
    "from bson.json_util import loads\n",
    "print (\"pymongo version:\", pymongo.version)"
   ]
  },
  {
   "cell_type": "markdown",
   "metadata": {},
   "source": [
    "### Check status mongodb\n",
    "* sudo service mongodb status\n",
    "* sudo service mongodb start"
   ]
  },
  {
   "cell_type": "code",
   "execution_count": null,
   "metadata": {},
   "outputs": [],
   "source": [
    "mongo_client = MongoClient('localhost', 27017)\n",
    "host_info = mongo_client['HOST']\n",
    "print (\"\\nhost:\", host_info)"
   ]
  },
  {
   "cell_type": "code",
   "execution_count": null,
   "metadata": {},
   "outputs": [],
   "source": [
    "print(mongo_client.list_database_names())"
   ]
  },
  {
   "cell_type": "code",
   "execution_count": null,
   "metadata": {},
   "outputs": [],
   "source": [
    "MONGO_DB_NAME = \"legalthings\"\n",
    "\n",
    "db = mongo_client[MONGO_DB_NAME]\n",
    "\n",
    "file_directory = ['../data/preprocess/incorporation_processes/']"
   ]
  },
  {
   "cell_type": "code",
   "execution_count": null,
   "metadata": {},
   "outputs": [],
   "source": [
    "def list_files(\n",
    "    directory: str = 'data/preprocess/incorporation_processes/',\n",
    "    file_type: str = 'json'\n",
    ") -> list:\n",
    "    \"\"\"Returns list of files in local folder.\"\"\"\n",
    "    return glob.glob(\"{}*.{}\".format(directory, file_type))\n",
    "\n",
    "\n",
    "def keep_only_file_name(\n",
    "    file_name: str = 'data/preprocess/incorporation_processes/processes_0.json'\n",
    "):\n",
    "    \"\"\"Returns only the file name without the extension.\"\"\"\n",
    "    return file_name.split('/')[-1].split('.')[0]"
   ]
  },
  {
   "cell_type": "code",
   "execution_count": null,
   "metadata": {},
   "outputs": [],
   "source": [
    "for directory in file_directory:\n",
    "    all_files = list_files(directory, 'json')\n",
    "    \n",
    "    for file_name in all_files:\n",
    "        collection_name = keep_only_file_name(file_name)\n",
    "        db.collection_name.drop()\n",
    "        new_collection = db[collection_name]\n",
    "        \n",
    "        incorporation_processes = []\n",
    "        for line in open(file_name, 'r'):\n",
    "            incorporation_processes.append(loads(line))\n",
    "            \n",
    "        new_collection.insert_many(incorporation_processes)\n",
    "        print(\"New collection created: {}\".format(collection_name))"
   ]
  },
  {
   "cell_type": "markdown",
   "metadata": {},
   "source": [
    "### Create database with collection"
   ]
  },
  {
   "cell_type": "code",
   "execution_count": null,
   "metadata": {},
   "outputs": [],
   "source": [
    "legalthings_db = mongo_client[\"legalthings\"]"
   ]
  },
  {
   "cell_type": "code",
   "execution_count": null,
   "metadata": {},
   "outputs": [],
   "source": [
    "incorporation_processes_collection = legalthings_db[\"incorporation_processes\"]"
   ]
  },
  {
   "cell_type": "markdown",
   "metadata": {},
   "source": [
    "### Insert processes into collection"
   ]
  },
  {
   "cell_type": "code",
   "execution_count": null,
   "metadata": {},
   "outputs": [],
   "source": [
    "file_directory: list = ['../data/preprocess/incorporation_processes/']"
   ]
  },
  {
   "cell_type": "code",
   "execution_count": null,
   "metadata": {},
   "outputs": [],
   "source": [
    "file_directory"
   ]
  },
  {
   "cell_type": "code",
   "execution_count": null,
   "metadata": {},
   "outputs": [],
   "source": [
    "def list_files(\n",
    "    directory: str = 'data/preprocess/incorporation_processes/',\n",
    "    file_type: str = 'json'\n",
    ") -> list:\n",
    "    \"\"\"Returns list of files in local folder.\"\"\"\n",
    "    return glob.glob(\"{}*.{}\".format(directory, file_type))\n",
    "\n",
    "\n",
    "def keep_only_file_name(\n",
    "    file_name: str = 'data/preprocess/incorporation_processes/processes_0.json'\n",
    "):\n",
    "    \"\"\"Returns only the file name without the extension.\"\"\"\n",
    "    return file_name.split('/')[-1].split('.')[0]"
   ]
  },
  {
   "cell_type": "code",
   "execution_count": null,
   "metadata": {},
   "outputs": [],
   "source": [
    "all_files = list_files(\n",
    "    '../data/preprocess/incorporation_processes/',\n",
    "    'json'\n",
    ")"
   ]
  },
  {
   "cell_type": "code",
   "execution_count": null,
   "metadata": {},
   "outputs": [],
   "source": [
    "keep_only_file_name(all_files[0])"
   ]
  },
  {
   "cell_type": "code",
   "execution_count": null,
   "metadata": {},
   "outputs": [],
   "source": [
    "incorporation_processes = []\n",
    "\n",
    "for line in open('../data/preprocess/incorporation_processes/processes_0.json', 'r'):\n",
    "    incorporation_processes.append(loads(line))"
   ]
  },
  {
   "cell_type": "code",
   "execution_count": null,
   "metadata": {},
   "outputs": [],
   "source": [
    "incorporation_processes_collection.insert_many(incorporation_processes)\n",
    "# print(x.inserted_ids)"
   ]
  },
  {
   "cell_type": "code",
   "execution_count": null,
   "metadata": {},
   "outputs": [],
   "source": [
    "legalthings_db.list_collection_names()"
   ]
  },
  {
   "cell_type": "code",
   "execution_count": null,
   "metadata": {},
   "outputs": [],
   "source": [
    "legalthings_db.make.drop()"
   ]
  },
  {
   "cell_type": "markdown",
   "metadata": {},
   "source": [
    "### Drop database"
   ]
  },
  {
   "cell_type": "code",
   "execution_count": null,
   "metadata": {},
   "outputs": [],
   "source": [
    "mongo_client.drop_database('legalthings')"
   ]
  },
  {
   "cell_type": "markdown",
   "metadata": {},
   "source": [
    "### Explore collection"
   ]
  },
  {
   "cell_type": "code",
   "execution_count": null,
   "metadata": {},
   "outputs": [],
   "source": [
    "incorporation_processes_collection.find_one()"
   ]
  },
  {
   "cell_type": "markdown",
   "metadata": {},
   "source": [
    "#### Filter out columns"
   ]
  },
  {
   "cell_type": "code",
   "execution_count": null,
   "metadata": {},
   "outputs": [],
   "source": [
    "for data in incorporation_processes_collection.find({},{ \"_id\": 0, \"name\": 1, 'alias': [{'key': 1}]}):\n",
    "    data\n",
    "    \n",
    "print(data)"
   ]
  },
  {
   "cell_type": "markdown",
   "metadata": {},
   "source": [
    "#### Filter on value in column"
   ]
  },
  {
   "cell_type": "code",
   "execution_count": null,
   "metadata": {},
   "outputs": [],
   "source": [
    "filter_query = { \"title\": \"BV Oprichten\" }\n",
    "\n",
    "filtered_col = incorporation_processes_collection.find(filter_query, { \"title\": 1, \"name\": 1})\n",
    "\n",
    "for data in filtered_col:\n",
    "    data\n",
    "\n",
    "print(data)"
   ]
  },
  {
   "cell_type": "markdown",
   "metadata": {},
   "source": [
    "#### Iterate through documents"
   ]
  },
  {
   "cell_type": "code",
   "execution_count": null,
   "metadata": {},
   "outputs": [],
   "source": [
    "docs = incorporation_processes_collection.find()"
   ]
  },
  {
   "cell_type": "code",
   "execution_count": null,
   "metadata": {},
   "outputs": [],
   "source": [
    "docs.next(), docs.rewind()"
   ]
  },
  {
   "cell_type": "markdown",
   "metadata": {},
   "source": [
    "#### Document deepdive"
   ]
  },
  {
   "cell_type": "code",
   "execution_count": null,
   "metadata": {},
   "outputs": [],
   "source": [
    "for key, value in docs.next().items():\n",
    "    print(key, value)"
   ]
  },
  {
   "cell_type": "code",
   "execution_count": null,
   "metadata": {},
   "outputs": [],
   "source": [
    "for key, value in docs.next().items():\n",
    "    if key == 'scenario':\n",
    "        scenario = value"
   ]
  },
  {
   "cell_type": "code",
   "execution_count": null,
   "metadata": {},
   "outputs": [],
   "source": [
    "scenario['alias']"
   ]
  },
  {
   "cell_type": "code",
   "execution_count": null,
   "metadata": {},
   "outputs": [],
   "source": [
    "for key, value in scenario.items():\n",
    "    print(key)"
   ]
  }
 ],
 "metadata": {
  "kernelspec": {
   "display_name": "Python 3",
   "language": "python",
   "name": "python3"
  },
  "language_info": {
   "codemirror_mode": {
    "name": "ipython",
    "version": 3
   },
   "file_extension": ".py",
   "mimetype": "text/x-python",
   "name": "python",
   "nbconvert_exporter": "python",
   "pygments_lexer": "ipython3",
   "version": "3.7.4"
  }
 },
 "nbformat": 4,
 "nbformat_minor": 4
}
