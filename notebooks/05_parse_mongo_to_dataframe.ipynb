{
 "cells": [
  {
   "cell_type": "code",
   "execution_count": null,
   "metadata": {},
   "outputs": [],
   "source": [
    "import pymongo\n",
    "from pymongo import MongoClient\n",
    "from bson import ObjectId\n",
    "import pandas as pd\n",
    "from pandas import DataFrame\n",
    "from pandas import json_normalize\n",
    "# from pandas.io.json import json_normalize\n",
    "print (\"pymongo version:\", pymongo.version)\n",
    "\n",
    "pd.set_option('display.max_columns', 1010)\n",
    "pd.set_option('display.max_rows', 1010)"
   ]
  },
  {
   "cell_type": "markdown",
   "metadata": {},
   "source": [
    "### Check status mongodb\n",
    "* sudo service mongodb status\n",
    "* sudo service mongodb start"
   ]
  },
  {
   "cell_type": "code",
   "execution_count": null,
   "metadata": {},
   "outputs": [],
   "source": [
    "mongo_client = MongoClient('localhost', 27017)\n",
    "host_info = mongo_client['HOST']\n",
    "print (\"\\nhost:\", host_info)"
   ]
  },
  {
   "cell_type": "markdown",
   "metadata": {},
   "source": [
    "### List databases"
   ]
  },
  {
   "cell_type": "code",
   "execution_count": null,
   "metadata": {},
   "outputs": [],
   "source": [
    "print(mongo_client.list_database_names())"
   ]
  },
  {
   "cell_type": "code",
   "execution_count": null,
   "metadata": {},
   "outputs": [],
   "source": [
    "legalthings_db = mongo_client[\"legalthings\"]"
   ]
  },
  {
   "cell_type": "markdown",
   "metadata": {},
   "source": [
    "### Filter first features"
   ]
  },
  {
   "cell_type": "code",
   "execution_count": null,
   "metadata": {},
   "outputs": [],
   "source": [
    "json_normalize(legalthings_db['processes_18'].find({})[0])"
   ]
  },
  {
   "cell_type": "code",
   "execution_count": null,
   "metadata": {},
   "outputs": [],
   "source": [
    "df = json_normalize(legalthings_db['processes_18'].find({},{\n",
    "    '_id': 1, \n",
    "    'name': 1, \n",
    "    'creation': 1, \n",
    "    'current.title': 1,\n",
    "    'current.activation_date': 1, \n",
    "    'current.actor.email': 1, \n",
    "    'current.actor.name': 1,\n",
    "    'private_data.incorporation_type': 1\n",
    "}))"
   ]
  },
  {
   "cell_type": "code",
   "execution_count": null,
   "metadata": {},
   "outputs": [],
   "source": [
    "cursor.count()"
   ]
  },
  {
   "cell_type": "code",
   "execution_count": null,
   "metadata": {},
   "outputs": [],
   "source": [
    "cursor.count()"
   ]
  },
  {
   "cell_type": "code",
   "execution_count": null,
   "metadata": {},
   "outputs": [],
   "source": [
    "cursor = legalthings_db['processes_18'].find({\"private_data.meta_data.ah\": {\"$exists\": True}})"
   ]
  },
  {
   "cell_type": "code",
   "execution_count": null,
   "metadata": {},
   "outputs": [],
   "source": [
    "cursor.count()"
   ]
  },
  {
   "cell_type": "code",
   "execution_count": null,
   "metadata": {},
   "outputs": [],
   "source": [
    "df = json_normalize(cursor, [['private_data', 'meta_data', 'ah']], ['_id'])"
   ]
  },
  {
   "cell_type": "markdown",
   "metadata": {},
   "source": [
    "### Loop through all collections to gather features"
   ]
  },
  {
   "cell_type": "code",
   "execution_count": null,
   "metadata": {},
   "outputs": [],
   "source": [
    "all_collections = legalthings_db.list_collection_names()"
   ]
  },
  {
   "cell_type": "code",
   "execution_count": null,
   "metadata": {},
   "outputs": [],
   "source": [
    "all_feature_df = None\n",
    "\n",
    "for collection_name in all_collections:\n",
    "    if 'processes' in collection_name:\n",
    "        df = json_normalize(\n",
    "            legalthings_db[\n",
    "                collection_name].find({},{\n",
    "                '_id': 1,\n",
    "                'name': 1,\n",
    "                'creation': 1,\n",
    "                'current.title': 1,\n",
    "                'current.activation_date': 1,\n",
    "                'current.actor.email': 1,\n",
    "                'current.actor.name': 1,\n",
    "                'private_data.incorporation_type': 1\n",
    "        }))\n",
    "        \n",
    "        cursor = legalthings_db[\n",
    "            collection_name].find({\n",
    "            \"private_data.meta_data.ah\": {\"$exists\": True}\n",
    "        })\n",
    "        \n",
    "        naw_df = json_normalize(cursor, [['private_data', 'meta_data', 'ah']], ['_id'])\n",
    "        \n",
    "        features_df = pd.merge(df, naw_df, on='_id', how='left')\n",
    "        \n",
    "        if all_feature_df is None:\n",
    "            all_feature_df = features_df\n",
    "        else:\n",
    "            all_feature_df = pd.concat([all_feature_df, features_df])\n",
    "        \n",
    "        print(collection_name)"
   ]
  },
  {
   "cell_type": "code",
   "execution_count": null,
   "metadata": {},
   "outputs": [],
   "source": [
    "all_feature_df.shape, len(all_feature_df['_id'].unique())"
   ]
  },
  {
   "cell_type": "code",
   "execution_count": null,
   "metadata": {},
   "outputs": [],
   "source": [
    "all_feature_df.groupby('current.title')['_id'].nunique().sort_values(ascending=False)"
   ]
  },
  {
   "cell_type": "code",
   "execution_count": null,
   "metadata": {},
   "outputs": [],
   "source": [
    "all_feature_df.head()"
   ]
  }
 ],
 "metadata": {
  "kernelspec": {
   "display_name": "Python 3",
   "language": "python",
   "name": "python3"
  },
  "language_info": {
   "codemirror_mode": {
    "name": "ipython",
    "version": 3
   },
   "file_extension": ".py",
   "mimetype": "text/x-python",
   "name": "python",
   "nbconvert_exporter": "python",
   "pygments_lexer": "ipython3",
   "version": "3.7.4"
  }
 },
 "nbformat": 4,
 "nbformat_minor": 4
}
