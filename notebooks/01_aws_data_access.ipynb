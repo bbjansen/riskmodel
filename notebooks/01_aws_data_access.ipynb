{
 "cells": [
  {
   "cell_type": "code",
   "execution_count": null,
   "metadata": {},
   "outputs": [],
   "source": [
    "from dotenv import load_dotenv\n",
    "import os\n",
    "import boto3\n",
    "import botocore\n",
    "import pandas as pd"
   ]
  },
  {
   "cell_type": "code",
   "execution_count": null,
   "metadata": {},
   "outputs": [],
   "source": [
    "load_dotenv()\n",
    "\n",
    "ACCESS_KEY = os.getenv('AWS_ACCESS_KEY_ID')\n",
    "SECRET_KEY = os.getenv('AWS_SECRET_ACCESS_KEY')\n",
    "REGION = os.getenv('REGION')"
   ]
  },
  {
   "cell_type": "code",
   "execution_count": null,
   "metadata": {},
   "outputs": [],
   "source": [
    "client = boto3.client(\n",
    "    's3',\n",
    "    aws_access_key_id=ACCESS_KEY,\n",
    "    aws_secret_access_key=SECRET_KEY,\n",
    ")"
   ]
  },
  {
   "cell_type": "code",
   "execution_count": null,
   "metadata": {},
   "outputs": [],
   "source": [
    "s3 = boto3.resource('s3')"
   ]
  },
  {
   "cell_type": "code",
   "execution_count": null,
   "metadata": {},
   "outputs": [],
   "source": [
    "my_bucket = s3.Bucket('legalthings-datalake')\n",
    "\n",
    "for file in my_bucket.objects.all():\n",
    "    print(file.key)"
   ]
  },
  {
   "cell_type": "code",
   "execution_count": null,
   "metadata": {},
   "outputs": [],
   "source": [
    "def with_aws_service(f):\n",
    "    \"\"\"Decorate function to add aws service.\"\"\"\n",
    "    def wrap(*args, **kwargs):\n",
    "        load_dotenv()\n",
    "        ACCESS_KEY = os.getenv('STORAGE_ACCOUNT_NAME')\n",
    "        SECRET_KEY = os.getenv('STORAGE_ACCOUNT_KEY')\n",
    "\n",
    "        client = boto3.client(\n",
    "            's3',\n",
    "            aws_access_key_id=ACCESS_KEY,\n",
    "            aws_secret_access_key=SECRET_KEY,\n",
    "        )\n",
    "        s3 = boto3.resource('s3')\n",
    "        kwargs['s3'] = s3\n",
    "        return f(*args, **kwargs)\n",
    "    return wrap\n",
    "\n",
    "\n",
    "def make_folder(path):\n",
    "    \"\"\"Create folder.\"\"\"\n",
    "    if not os.path.exists(path):\n",
    "        os.makedirs(path)\n",
    "        \n",
    "        \n",
    "def extract_filename_from_filepath(filepath):\n",
    "    \"\"\"Extract filename from full filepath.\"\"\"\n",
    "    return (\n",
    "        re\n",
    "        .search('/(.*).csv', filepath)\n",
    "        .group(1)\n",
    "        .split('/')\n",
    "    )[-1]\n",
    "\n",
    "\n",
    "@with_aws_service\n",
    "def download_csv_files(\n",
    "    bucket: str,remote: str, local: str, *args, **kwargs\n",
    "):\n",
    "    make_folder(os.path.join(local, remote))\n",
    "    s3 = kwargs['s3']\n",
    "    \n",
    "    files = list_csv_files(bucket, remote)\n",
    "    \n",
    "    for file in files:\n",
    "        try:\n",
    "            file_name = extract_filename_from_filepath(file)\n",
    "            local_filename = os.path.join(local, remote, file_name)\n",
    "            s3.Bucket(bucket).download_file(file, local_filename)\n",
    "        except botocore.exceptions.ClientError as e:\n",
    "            if e.response['Error']['Code'] == \"404\":\n",
    "                print(\"The object does not exist.\")\n",
    "            else:\n",
    "                raise\n",
    "                \n",
    "                \n",
    "@with_aws_service\n",
    "def list_csv_files(\n",
    "    bucket: str, remote: str, *args, **kwargs\n",
    ") -> list:\n",
    "    \"\"\"Returns list of csv files in remote folder.\"\"\"\n",
    "    s3 = kwargs['s3']\n",
    "    \n",
    "    files = []\n",
    "    \n",
    "    my_bucket = s3.Bucket(bucket)\n",
    "    \n",
    "    for file in my_bucket.objects.all():\n",
    "        if remote in file.key and file.key.endswith('.csv'):\n",
    "            files.append(file.key)\n",
    "            \n",
    "    return files"
   ]
  },
  {
   "cell_type": "code",
   "execution_count": null,
   "metadata": {},
   "outputs": [],
   "source": [
    "download_csv_files(\n",
    "    bucket='legalthings-datalake',\n",
    "    remote='datastudio/BVshareholders', \n",
    "    local='../data/'\n",
    ")"
   ]
  },
  {
   "cell_type": "code",
   "execution_count": null,
   "metadata": {},
   "outputs": [],
   "source": [
    "BUCKET_NAME = 'legalthings-datalake'\n",
    "KEY = 'datastudio/BVshareholders/part-00000-20269f50-2b21-4c2d-b896-6bd87829a261-c000.csv'\n",
    "\n",
    "s3 = boto3.resource('s3')\n",
    "\n",
    "try:\n",
    "    s3.Bucket(BUCKET_NAME).download_file(KEY, '../data/example.csv')\n",
    "except botocore.exceptions.ClientError as e:\n",
    "    if e.response['Error']['Code'] == \"404\":\n",
    "        print(\"The object does not exist.\")\n",
    "    else:\n",
    "        raise"
   ]
  },
  {
   "cell_type": "code",
   "execution_count": null,
   "metadata": {},
   "outputs": [],
   "source": [
    "list_csv_files(\n",
    "    bucket='legalthings-datalake',\n",
    "    remote='datastudio/BVprocedures/'\n",
    ")"
   ]
  },
  {
   "cell_type": "code",
   "execution_count": null,
   "metadata": {},
   "outputs": [],
   "source": [
    "my_bucket = s3.Bucket('legalthings-datalake')\n",
    "\n",
    "bucket_categories = []\n",
    "\n",
    "for file in my_bucket.objects.all():\n",
    "    try:\n",
    "        directory = file.key.split('/')[0] + '/' + file.key.split('/')[1]\n",
    "        bucket_categories.append(directory)\n",
    "    except:\n",
    "        print('No sub directory')"
   ]
  },
  {
   "cell_type": "code",
   "execution_count": null,
   "metadata": {},
   "outputs": [],
   "source": [
    "df = pd.DataFrame(bucket_categories, columns=['directory'])"
   ]
  },
  {
   "cell_type": "code",
   "execution_count": null,
   "metadata": {},
   "outputs": [],
   "source": [
    "df.groupby('directory').size().head()"
   ]
  }
 ],
 "metadata": {
  "kernelspec": {
   "display_name": "Python 3",
   "language": "python",
   "name": "python3"
  },
  "language_info": {
   "codemirror_mode": {
    "name": "ipython",
    "version": 3
   },
   "file_extension": ".py",
   "mimetype": "text/x-python",
   "name": "python",
   "nbconvert_exporter": "python",
   "pygments_lexer": "ipython3",
   "version": "3.7.4"
  }
 },
 "nbformat": 4,
 "nbformat_minor": 4
}
